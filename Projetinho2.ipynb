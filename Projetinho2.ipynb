{
  "nbformat": 4,
  "nbformat_minor": 0,
  "metadata": {
    "colab": {
      "provenance": [],
      "authorship_tag": "ABX9TyMJ7tU0oX8Bjz0OGIMefjvM",
      "include_colab_link": true
    },
    "kernelspec": {
      "name": "python3",
      "display_name": "Python 3"
    },
    "language_info": {
      "name": "python"
    }
  },
  "cells": [
    {
      "cell_type": "markdown",
      "metadata": {
        "id": "view-in-github",
        "colab_type": "text"
      },
      "source": [
        "<a href=\"https://colab.research.google.com/github/gui-ferr/projetosTA/blob/main/Projetinho2.ipynb\" target=\"_parent\"><img src=\"https://colab.research.google.com/assets/colab-badge.svg\" alt=\"Open In Colab\"/></a>"
      ]
    },
    {
      "cell_type": "code",
      "execution_count": 1,
      "metadata": {
        "id": "k_l2Uy2y-fHs"
      },
      "outputs": [],
      "source": [
        "import numpy as np\n",
        "import pandas as pd\n",
        "import matplotlib.pyplot as plt\n",
        "from sklearn.model_selection import cross_val_score\n",
        "from sklearn.model_selection import train_test_split\n",
        "from sklearn.metrics import accuracy_score\n",
        "from sklearn.linear_model import LogisticRegression\n",
        "from sklearn import svm\n",
        "from sklearn.svm import SVC\n",
        "import seaborn as sns"
      ]
    },
    {
      "cell_type": "code",
      "source": [
        "df = pd.read_csv('promocao.csv')\n",
        "df.info()"
      ],
      "metadata": {
        "colab": {
          "base_uri": "https://localhost:8080/"
        },
        "id": "fU8XosFQWfsq",
        "outputId": "5706c7fd-3ace-41fc-e214-2154343f2e36"
      },
      "execution_count": 2,
      "outputs": [
        {
          "output_type": "stream",
          "name": "stdout",
          "text": [
            "<class 'pandas.core.frame.DataFrame'>\n",
            "RangeIndex: 54808 entries, 0 to 54807\n",
            "Data columns (total 13 columns):\n",
            " #   Column                Non-Null Count  Dtype  \n",
            "---  ------                --------------  -----  \n",
            " 0   employee_id           54808 non-null  int64  \n",
            " 1   department            54808 non-null  object \n",
            " 2   region                54808 non-null  object \n",
            " 3   education             52399 non-null  object \n",
            " 4   gender                54808 non-null  object \n",
            " 5   recruitment_channel   54808 non-null  object \n",
            " 6   no_of_trainings       54808 non-null  int64  \n",
            " 7   age                   54808 non-null  int64  \n",
            " 8   previous_year_rating  50684 non-null  float64\n",
            " 9   length_of_service     54808 non-null  int64  \n",
            " 10  awards_won?           54808 non-null  int64  \n",
            " 11  avg_training_score    54808 non-null  int64  \n",
            " 12  is_promoted           54808 non-null  int64  \n",
            "dtypes: float64(1), int64(7), object(5)\n",
            "memory usage: 5.4+ MB\n"
          ]
        }
      ]
    },
    {
      "cell_type": "markdown",
      "source": [
        "# Rápida olhada pra corrigir algumas coisas no dataset"
      ],
      "metadata": {
        "id": "XjqyHtpwXjZi"
      }
    },
    {
      "cell_type": "code",
      "source": [
        "print(df.describe(include=['object']))\n",
        "print(df.department.unique())\n",
        "print(df.previous_year_rating.unique())\n",
        "print(df.education.unique())"
      ],
      "metadata": {
        "colab": {
          "base_uri": "https://localhost:8080/"
        },
        "id": "55LCGbhFXx5Z",
        "outputId": "990721e5-782e-4c31-844d-4af7bcec70c3"
      },
      "execution_count": 3,
      "outputs": [
        {
          "output_type": "stream",
          "name": "stdout",
          "text": [
            "               department    region   education gender recruitment_channel\n",
            "count               54808     54808       52399  54808               54808\n",
            "unique                  9        34           3      2                   3\n",
            "top     Sales & Marketing  region_2  Bachelor's      m               other\n",
            "freq                16840     12343       36669  38496               30446\n",
            "['Sales & Marketing' 'Operations' 'Technology' 'Analytics' 'R&D'\n",
            " 'Procurement' 'Finance' 'HR' 'Legal']\n",
            "[ 5.  3.  1.  4. nan  2.]\n",
            "[\"Master's & above\" \"Bachelor's\" nan 'Below Secondary']\n"
          ]
        }
      ]
    },
    {
      "cell_type": "markdown",
      "source": [
        "As colunas de PYR (previous year rating) e education tem NaNs. Os NaNs da PYR são de funcionarios que entraram esse ano (isso vai ser corrigido na hora de fazer os dummies). Os NaNs de education me parecem equivalentes a High School, já que existe uma classificação \"Below secondary\" (~ensino médio pra baixo) e uma \"Bachelor's\" (Faculdade) mas não uma de Ensino médio completo. Por isso, vou trocar eles por \"High School\"."
      ],
      "metadata": {
        "id": "2BNCHRCDYvUy"
      }
    },
    {
      "cell_type": "code",
      "source": [
        "df[\"education\"].replace(np.NAN, \"High School\", inplace=True)\n",
        "print(df.education.unique())"
      ],
      "metadata": {
        "colab": {
          "base_uri": "https://localhost:8080/"
        },
        "id": "o5_vgHIkVU0J",
        "outputId": "0b65b53e-fe01-45db-e5ff-9227c4137caa"
      },
      "execution_count": 4,
      "outputs": [
        {
          "output_type": "stream",
          "name": "stdout",
          "text": [
            "[\"Master's & above\" \"Bachelor's\" 'High School' 'Below Secondary']\n"
          ]
        }
      ]
    },
    {
      "cell_type": "code",
      "source": [
        "print(df.describe(include=['int64']))\n",
        "print(df.describe(include=['float64']))"
      ],
      "metadata": {
        "colab": {
          "base_uri": "https://localhost:8080/"
        },
        "id": "Vsdp7HbWZyQp",
        "outputId": "38209972-9317-4254-da40-7140f79aa472"
      },
      "execution_count": 5,
      "outputs": [
        {
          "output_type": "stream",
          "name": "stdout",
          "text": [
            "        employee_id  no_of_trainings           age  length_of_service  \\\n",
            "count  54808.000000     54808.000000  54808.000000       54808.000000   \n",
            "mean   39195.830627         1.253011     34.803915           5.865512   \n",
            "std    22586.581449         0.609264      7.660169           4.265094   \n",
            "min        1.000000         1.000000     20.000000           1.000000   \n",
            "25%    19669.750000         1.000000     29.000000           3.000000   \n",
            "50%    39225.500000         1.000000     33.000000           5.000000   \n",
            "75%    58730.500000         1.000000     39.000000           7.000000   \n",
            "max    78298.000000        10.000000     60.000000          37.000000   \n",
            "\n",
            "        awards_won?  avg_training_score   is_promoted  \n",
            "count  54808.000000        54808.000000  54808.000000  \n",
            "mean       0.023172           63.386750      0.085170  \n",
            "std        0.150450           13.371559      0.279137  \n",
            "min        0.000000           39.000000      0.000000  \n",
            "25%        0.000000           51.000000      0.000000  \n",
            "50%        0.000000           60.000000      0.000000  \n",
            "75%        0.000000           76.000000      0.000000  \n",
            "max        1.000000           99.000000      1.000000  \n",
            "       previous_year_rating\n",
            "count          50684.000000\n",
            "mean               3.329256\n",
            "std                1.259993\n",
            "min                1.000000\n",
            "25%                3.000000\n",
            "50%                3.000000\n",
            "75%                4.000000\n",
            "max                5.000000\n"
          ]
        }
      ]
    },
    {
      "cell_type": "code",
      "source": [
        "#Vou dropar a coluna de ID porque não vai ajudar em nada\n",
        "df = df.drop(['employee_id'],axis=1)"
      ],
      "metadata": {
        "id": "BzUEebYNHcyr"
      },
      "execution_count": 8,
      "outputs": []
    },
    {
      "cell_type": "markdown",
      "source": [
        "Heatmap pra checar algumas correlações entre as variáveis:"
      ],
      "metadata": {
        "id": "gnCPqkQRRnIf"
      }
    },
    {
      "cell_type": "code",
      "source": [
        "sns.heatmap(df.corr(),xticklabels=True, yticklabels=True, annot=True)"
      ],
      "metadata": {
        "colab": {
          "base_uri": "https://localhost:8080/",
          "height": 382
        },
        "id": "k_JF00HoGyPX",
        "outputId": "9748a6e3-461e-4276-b75f-01e3c5145626"
      },
      "execution_count": 9,
      "outputs": [
        {
          "output_type": "execute_result",
          "data": {
            "text/plain": [
              "<matplotlib.axes._subplots.AxesSubplot at 0x7fb1beb473d0>"
            ]
          },
          "metadata": {},
          "execution_count": 9
        },
        {
          "output_type": "display_data",
          "data": {
            "text/plain": [
              "<Figure size 432x288 with 2 Axes>"
            ],
            "image/png": "[encoded data removed]"
          },
          "metadata": {
            "needs_background": "light"
          }
        }
      ]
    },
    {
      "cell_type": "markdown",
      "source": [
        "Se percebe que a nota do ano passado, prêmios e a média das notas de treino são as variávies com mais correlação com a promoção, enquanto a idade, o número de treinamentos e o tempo na empresa parecem não ter correlação nenhuma com a chance de ser promovido! \n",
        "A mais surpreendente dessas informações foi a de tempo na empresa: o senso comum acredita que mais tempo trabalhando em uma empresa significa promoção e salário maior, mas pelo visto isso não é uma regra."
      ],
      "metadata": {
        "id": "pgeHnb9bRtmQ"
      }
    },
    {
      "cell_type": "markdown",
      "source": [
        "#Regressão Logística"
      ],
      "metadata": {
        "id": "oVUk3cQol0l7"
      }
    },
    {
      "cell_type": "markdown",
      "source": [
        "Primeiro o encoding:"
      ],
      "metadata": {
        "id": "ZhFcPTZtU7kv"
      }
    },
    {
      "cell_type": "code",
      "source": [
        "df_dummy = pd.get_dummies(df, prefix = ['previous_year_rating','department','region','education','gender','recruitment_channel'], dummy_na=True, columns = ['previous_year_rating','department','region','education','gender','recruitment_channel'])"
      ],
      "metadata": {
        "id": "Clgzpmppxyuo"
      },
      "execution_count": 10,
      "outputs": []
    },
    {
      "cell_type": "code",
      "source": [
        "colunas_dummy = list(df_dummy.columns.values)\n",
        "colunas_dummy.remove('is_promoted')\n",
        "print(colunas_dummy)"
      ],
      "metadata": {
        "colab": {
          "base_uri": "https://localhost:8080/"
        },
        "id": "6jTZDzyXBztC",
        "outputId": "6954b13f-be47-4d95-f001-8cffadbc5184"
      },
      "execution_count": 11,
      "outputs": [
        {
          "output_type": "stream",
          "name": "stdout",
          "text": [
            "['no_of_trainings', 'age', 'length_of_service', 'awards_won?', 'avg_training_score', 'previous_year_rating_1.0', 'previous_year_rating_2.0', 'previous_year_rating_3.0', 'previous_year_rating_4.0', 'previous_year_rating_5.0', 'previous_year_rating_nan', 'department_Analytics', 'department_Finance', 'department_HR', 'department_Legal', 'department_Operations', 'department_Procurement', 'department_R&D', 'department_Sales & Marketing', 'department_Technology', 'department_nan', 'region_region_1', 'region_region_10', 'region_region_11', 'region_region_12', 'region_region_13', 'region_region_14', 'region_region_15', 'region_region_16', 'region_region_17', 'region_region_18', 'region_region_19', 'region_region_2', 'region_region_20', 'region_region_21', 'region_region_22', 'region_region_23', 'region_region_24', 'region_region_25', 'region_region_26', 'region_region_27', 'region_region_28', 'region_region_29', 'region_region_3', 'region_region_30', 'region_region_31', 'region_region_32', 'region_region_33', 'region_region_34', 'region_region_4', 'region_region_5', 'region_region_6', 'region_region_7', 'region_region_8', 'region_region_9', 'region_nan', \"education_Bachelor's\", 'education_Below Secondary', 'education_High School', \"education_Master's & above\", 'education_nan', 'gender_f', 'gender_m', 'gender_nan', 'recruitment_channel_other', 'recruitment_channel_referred', 'recruitment_channel_sourcing', 'recruitment_channel_nan']\n"
          ]
        }
      ]
    },
    {
      "cell_type": "markdown",
      "source": [
        "Separação de dados de treino e teste:"
      ],
      "metadata": {
        "id": "PpH1mBFDVHNm"
      }
    },
    {
      "cell_type": "code",
      "source": [
        "X = df_dummy[colunas_dummy]\n",
        "y = df_dummy['is_promoted']"
      ],
      "metadata": {
        "id": "8D69PIxancK8"
      },
      "execution_count": 12,
      "outputs": []
    },
    {
      "cell_type": "code",
      "source": [
        "X_train, X_test, y_train, y_test = train_test_split(X, y, test_size=0.30)"
      ],
      "metadata": {
        "id": "Fv0jX_FqlAFj"
      },
      "execution_count": 13,
      "outputs": []
    },
    {
      "cell_type": "markdown",
      "source": [
        "Agora sim fazer o treino:"
      ],
      "metadata": {
        "id": "OF2xvjEsd3Qj"
      }
    },
    {
      "cell_type": "code",
      "source": [
        "logreg = LogisticRegression(solver='liblinear')\n",
        "scores = cross_val_score(logreg, X_train, y=y_train, cv = 10, scoring='accuracy')\n",
        "scores.mean()"
      ],
      "metadata": {
        "colab": {
          "base_uri": "https://localhost:8080/"
        },
        "id": "RB46YlkxpFnE",
        "outputId": "1897d91b-de50-4685-917b-6918ca0e4dc1"
      },
      "execution_count": 14,
      "outputs": [
        {
          "output_type": "execute_result",
          "data": {
            "text/plain": [
              "0.9364524607146866"
            ]
          },
          "metadata": {},
          "execution_count": 14
        }
      ]
    },
    {
      "cell_type": "markdown",
      "source": [
        "Testar se isso é overfitting com os dados de validação:"
      ],
      "metadata": {
        "id": "DJuHmrD-nbiE"
      }
    },
    {
      "cell_type": "code",
      "source": [
        "logreg.fit(X_train, y_train)\n",
        "y_pred_logr = logreg.predict(X_test)\n",
        "\n",
        "print(accuracy_score(y_test, y_pred_logr))"
      ],
      "metadata": {
        "colab": {
          "base_uri": "https://localhost:8080/"
        },
        "id": "06Q0I_LcniKj",
        "outputId": "0620096a-c94f-4889-fe9e-b71c9bd9d9e9"
      },
      "execution_count": 15,
      "outputs": [
        {
          "output_type": "stream",
          "name": "stdout",
          "text": [
            "0.9379067080216505\n"
          ]
        }
      ]
    },
    {
      "cell_type": "markdown",
      "source": [
        "#SVM"
      ],
      "metadata": {
        "id": "q9VnH2nybdjK"
      }
    },
    {
      "cell_type": "markdown",
      "source": [
        "Treino do SVM:"
      ],
      "metadata": {
        "id": "MC-JgSD5QrKn"
      }
    },
    {
      "cell_type": "code",
      "source": [
        "svm = svm.SVC(C = 1E3)\n",
        "scores = cross_val_score(svm, X_train, y=y_train, cv = 5, scoring='accuracy')\n",
        "scores.mean()"
      ],
      "metadata": {
        "colab": {
          "base_uri": "https://localhost:8080/"
        },
        "id": "B3xoRw0lbjja",
        "outputId": "361a2975-adbb-43b4-fdbe-cd67f8d60107"
      },
      "execution_count": null,
      "outputs": [
        {
          "output_type": "execute_result",
          "data": {
            "text/plain": [
              "0.9135149224553629"
            ]
          },
          "metadata": {},
          "execution_count": 13
        }
      ]
    },
    {
      "cell_type": "code",
      "source": [
        "svm.fit(X_train, y_train)\n",
        "y_pred_svm = svm.predict(X_test)"
      ],
      "metadata": {
        "id": "vfYOjLp9qAbl"
      },
      "execution_count": null,
      "outputs": []
    },
    {
      "cell_type": "markdown",
      "source": [
        "Teste pra validação:"
      ],
      "metadata": {
        "id": "AEjL5I2JQt6f"
      }
    },
    {
      "cell_type": "code",
      "source": [
        "print(accuracy_score(y_test, y_pred_svm))"
      ],
      "metadata": {
        "colab": {
          "base_uri": "https://localhost:8080/"
        },
        "id": "pRx3T-GLnBa1",
        "outputId": "ea21208d-676e-4860-807b-87c9be33cbd6"
      },
      "execution_count": null,
      "outputs": [
        {
          "output_type": "stream",
          "name": "stdout",
          "text": [
            "0.9178981937602627\n"
          ]
        }
      ]
    }
  ]
}